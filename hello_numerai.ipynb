{
 "cells": [
  {
   "attachments": {},
   "cell_type": "markdown",
   "metadata": {},
   "source": [
    "# Hello Numerai"
   ]
  },
  {
   "cell_type": "code",
   "execution_count": 2,
   "metadata": {},
   "outputs": [],
   "source": [
    "# Install dependencies\n",
    "!pip install -q numerapi pandas matplotlib lightgbm cloudpickle pyarrow\n",
    "\n",
    "# Inline plots\n",
    "%matplotlib inline"
   ]
  },
  {
   "attachments": {},
   "cell_type": "markdown",
   "metadata": {},
   "source": [
    "## 1. Dataset  "
   ]
  },
  {
   "attachments": {},
   "cell_type": "markdown",
   "metadata": {},
   "source": [
    "Let's see what files are available in the API"
   ]
  },
  {
   "cell_type": "code",
   "execution_count": 3,
   "metadata": {},
   "outputs": [
    {
     "data": {
      "text/plain": [
       "['v4.1/features.json',\n",
       " 'v4.1/live.parquet',\n",
       " 'v4.1/live_example_preds.csv',\n",
       " 'v4.1/live_example_preds.parquet',\n",
       " 'v4.1/live_int8.parquet',\n",
       " 'v4.1/meta_model.parquet',\n",
       " 'v4.1/train.parquet',\n",
       " 'v4.1/train_int8.parquet',\n",
       " 'v4.1/validation.parquet',\n",
       " 'v4.1/validation_example_preds.csv',\n",
       " 'v4.1/validation_example_preds.parquet',\n",
       " 'v4.1/validation_int8.parquet']"
      ]
     },
     "execution_count": 3,
     "metadata": {},
     "output_type": "execute_result"
    }
   ],
   "source": [
    "# NumerAPI is the official Python API client for Numerai\n",
    "from numerapi import NumerAPI\n",
    "napi = NumerAPI()\n",
    "\n",
    "# v4.1 is the latest version of the dataset\n",
    "[f for f in napi.list_datasets() if f.startswith(\"v4.1\")]"
   ]
  },
  {
   "attachments": {},
   "cell_type": "markdown",
   "metadata": {},
   "source": [
    "Let's start by downloading `train.parquet` - the historical training data."
   ]
  },
  {
   "cell_type": "code",
   "execution_count": 4,
   "metadata": {},
   "outputs": [
    {
     "name": "stderr",
     "output_type": "stream",
     "text": [
      "2023-06-05 10:01:26,873 INFO numerapi.utils: target file already exists\n",
      "2023-06-05 10:01:26,875 INFO numerapi.utils: download complete\n",
      "2023-06-05 10:01:27,736 INFO numerapi.utils: target file already exists\n",
      "2023-06-05 10:01:27,737 INFO numerapi.utils: download complete\n"
     ]
    },
    {
     "data": {
      "text/html": [
       "<div>\n",
       "<style scoped>\n",
       "    .dataframe tbody tr th:only-of-type {\n",
       "        vertical-align: middle;\n",
       "    }\n",
       "\n",
       "    .dataframe tbody tr th {\n",
       "        vertical-align: top;\n",
       "    }\n",
       "\n",
       "    .dataframe thead th {\n",
       "        text-align: right;\n",
       "    }\n",
       "</style>\n",
       "<table border=\"1\" class=\"dataframe\">\n",
       "  <thead>\n",
       "    <tr style=\"text-align: right;\">\n",
       "      <th></th>\n",
       "      <th>era</th>\n",
       "      <th>feature_bijou_penetrant_syringa</th>\n",
       "      <th>...</th>\n",
       "      <th>feature_unventilated_sollar_bason</th>\n",
       "      <th>target</th>\n",
       "    </tr>\n",
       "    <tr>\n",
       "      <th>id</th>\n",
       "      <th></th>\n",
       "      <th></th>\n",
       "      <th></th>\n",
       "      <th></th>\n",
       "      <th></th>\n",
       "    </tr>\n",
       "  </thead>\n",
       "  <tbody>\n",
       "    <tr>\n",
       "      <th>n003bba8a98662e4</th>\n",
       "      <td>0001</td>\n",
       "      <td>0.00</td>\n",
       "      <td>...</td>\n",
       "      <td>0.00</td>\n",
       "      <td>0.25</td>\n",
       "    </tr>\n",
       "    <tr>\n",
       "      <th>n003bee128c2fcfc</th>\n",
       "      <td>0001</td>\n",
       "      <td>0.50</td>\n",
       "      <td>...</td>\n",
       "      <td>0.25</td>\n",
       "      <td>0.75</td>\n",
       "    </tr>\n",
       "    <tr>\n",
       "      <th>n0048ac83aff7194</th>\n",
       "      <td>0001</td>\n",
       "      <td>0.25</td>\n",
       "      <td>...</td>\n",
       "      <td>1.00</td>\n",
       "      <td>0.25</td>\n",
       "    </tr>\n",
       "    <tr>\n",
       "      <th>n00691bec80d3e02</th>\n",
       "      <td>0001</td>\n",
       "      <td>0.75</td>\n",
       "      <td>...</td>\n",
       "      <td>0.75</td>\n",
       "      <td>0.75</td>\n",
       "    </tr>\n",
       "    <tr>\n",
       "      <th>n00b8720a2fdc4f2</th>\n",
       "      <td>0001</td>\n",
       "      <td>0.00</td>\n",
       "      <td>...</td>\n",
       "      <td>0.00</td>\n",
       "      <td>0.50</td>\n",
       "    </tr>\n",
       "    <tr>\n",
       "      <th>...</th>\n",
       "      <td>...</td>\n",
       "      <td>...</td>\n",
       "      <td>...</td>\n",
       "      <td>...</td>\n",
       "      <td>...</td>\n",
       "    </tr>\n",
       "    <tr>\n",
       "      <th>nffcc1dbdf2212e6</th>\n",
       "      <td>0574</td>\n",
       "      <td>1.00</td>\n",
       "      <td>...</td>\n",
       "      <td>1.00</td>\n",
       "      <td>0.75</td>\n",
       "    </tr>\n",
       "    <tr>\n",
       "      <th>nffd71b7f6a128df</th>\n",
       "      <td>0574</td>\n",
       "      <td>0.75</td>\n",
       "      <td>...</td>\n",
       "      <td>0.50</td>\n",
       "      <td>0.25</td>\n",
       "    </tr>\n",
       "    <tr>\n",
       "      <th>nffde3b371d67394</th>\n",
       "      <td>0574</td>\n",
       "      <td>0.75</td>\n",
       "      <td>...</td>\n",
       "      <td>1.00</td>\n",
       "      <td>0.25</td>\n",
       "    </tr>\n",
       "    <tr>\n",
       "      <th>nfff1a1111b35e84</th>\n",
       "      <td>0574</td>\n",
       "      <td>0.25</td>\n",
       "      <td>...</td>\n",
       "      <td>0.00</td>\n",
       "      <td>0.50</td>\n",
       "    </tr>\n",
       "    <tr>\n",
       "      <th>nfff2bd38e397265</th>\n",
       "      <td>0574</td>\n",
       "      <td>1.00</td>\n",
       "      <td>...</td>\n",
       "      <td>1.00</td>\n",
       "      <td>0.75</td>\n",
       "    </tr>\n",
       "  </tbody>\n",
       "</table>\n",
       "<p>2420521 rows × 34 columns</p>\n",
       "</div>"
      ],
      "text/plain": [
       "                   era  feature_bijou_penetrant_syringa  ...  \\\n",
       "id                                                       ...   \n",
       "n003bba8a98662e4  0001                             0.00  ...   \n",
       "n003bee128c2fcfc  0001                             0.50  ...   \n",
       "n0048ac83aff7194  0001                             0.25  ...   \n",
       "n00691bec80d3e02  0001                             0.75  ...   \n",
       "n00b8720a2fdc4f2  0001                             0.00  ...   \n",
       "...                ...                              ...  ...   \n",
       "nffcc1dbdf2212e6  0574                             1.00  ...   \n",
       "nffd71b7f6a128df  0574                             0.75  ...   \n",
       "nffde3b371d67394  0574                             0.75  ...   \n",
       "nfff1a1111b35e84  0574                             0.25  ...   \n",
       "nfff2bd38e397265  0574                             1.00  ...   \n",
       "\n",
       "                  feature_unventilated_sollar_bason  target  \n",
       "id                                                           \n",
       "n003bba8a98662e4                               0.00    0.25  \n",
       "n003bee128c2fcfc                               0.25    0.75  \n",
       "n0048ac83aff7194                               1.00    0.25  \n",
       "n00691bec80d3e02                               0.75    0.75  \n",
       "n00b8720a2fdc4f2                               0.00    0.50  \n",
       "...                                             ...     ...  \n",
       "nffcc1dbdf2212e6                               1.00    0.75  \n",
       "nffd71b7f6a128df                               0.50    0.25  \n",
       "nffde3b371d67394                               1.00    0.25  \n",
       "nfff1a1111b35e84                               0.00    0.50  \n",
       "nfff2bd38e397265                               1.00    0.75  \n",
       "\n",
       "[2420521 rows x 34 columns]"
      ]
     },
     "execution_count": 4,
     "metadata": {},
     "output_type": "execute_result"
    }
   ],
   "source": [
    "import pandas as pd\n",
    "import json\n",
    "\n",
    "# Download the training data and feature metadata\n",
    "# This will take about 1 minute 🍵\n",
    "napi.download_dataset(\"v4.1/train.parquet\");\n",
    "napi.download_dataset(\"v4.1/features.json\");\n",
    "\n",
    "# In this notebook, we will be using the \"small\" feature set to save time and memory\n",
    "# In practice, you will likely want to use all the features to maximize your model's performance\n",
    "feature_metadata = json.load(open(\"v4.1/features.json\")) \n",
    "feature_cols = feature_metadata[\"feature_sets\"][\"small\"]\n",
    "\n",
    "# Load the training data but only the \"small\" subset of features\n",
    "training_data = pd.read_parquet(\"v4.1/train.parquet\", columns= [\"era\"] + feature_cols + [\"target\"]) \n",
    "\n",
    "# Let's take a look\n",
    "pd.set_option('display.max_rows', 10)\n",
    "pd.set_option('display.max_columns', 5)\n",
    "training_data"
   ]
  },
  {
   "attachments": {},
   "cell_type": "markdown",
   "metadata": {},
   "source": [
    "Each row in the dataset corresponds to a stock at a specific point in time, represented by the `era` column.\n",
    "\n",
    "For each `era`, the number of rows is the same as the number of stocks in Numerai's investable universe at that point in time."
   ]
  },
  {
   "cell_type": "code",
   "execution_count": 5,
   "metadata": {},
   "outputs": [
    {
     "data": {
      "image/png": "[encoded data removed]",
      "text/plain": [
       "<Figure size 500x300 with 1 Axes>"
      ]
     },
     "metadata": {},
     "output_type": "display_data"
    }
   ],
   "source": [
    "# Plot the number of rows per era\n",
    "training_data.groupby(\"era\").size().plot(title=\"Number of Rows per Era\", figsize=(5, 3), xlabel=\"Era\");"
   ]
  },
  {
   "attachments": {},
   "cell_type": "markdown",
   "metadata": {},
   "source": [
    "The `features` are quantitative attributes (e.g P/E ratio) known about the stocks at the point in time. \n",
    "\n",
    "Feature values are regularized into 5 equal bins between 0 and 1 per era. This heavy regularization is to avoid overfitting as the underlying financial data is extremely noisy."
   ]
  },
  {
   "cell_type": "code",
   "execution_count": 6,
   "metadata": {},
   "outputs": [
    {
     "data": {
      "image/png": "[encoded data removed]",
      "text/plain": [
       "<Figure size 500x300 with 1 Axes>"
      ]
     },
     "metadata": {},
     "output_type": "display_data"
    }
   ],
   "source": [
    "# Plot density histogram of the first feature \n",
    "training_data[feature_cols[0]].plot(kind=\"hist\", title=feature_cols[0], figsize=(5, 3), xlabel=\"Value\", density=True, bins=50);"
   ]
  },
  {
   "attachments": {},
   "cell_type": "markdown",
   "metadata": {},
   "source": [
    "The `target` is a measure of stock market returns 20 days into the future. Your task is to predict this value given out of sample features.\n",
    "\n",
    "The target value has also been regularized but into 5 unequal bins. The distribution of target values map to the distribution of returns across the stock market. "
   ]
  },
  {
   "cell_type": "code",
   "execution_count": 7,
   "metadata": {},
   "outputs": [
    {
     "data": {
      "image/png": "[encoded data removed]",
      "text/plain": [
       "<Figure size 500x300 with 1 Axes>"
      ]
     },
     "metadata": {},
     "output_type": "display_data"
    }
   ],
   "source": [
    "# Plot density histogram of the target\n",
    "training_data[\"target\"].plot(kind=\"hist\", title=\"Target\", figsize=(5, 3), xlabel=\"Value\", density=True, bins=50);"
   ]
  },
  {
   "attachments": {},
   "cell_type": "markdown",
   "metadata": {},
   "source": [
    "## 2. Modeling\n",
    "Let's train our first model.\n",
    "\n",
    "Here we will be using LGBM but you are free to use any tool or framework of your choice."
   ]
  },
  {
   "cell_type": "code",
   "execution_count": 8,
   "metadata": {},
   "outputs": [],
   "source": [
    "# https://lightgbm.readthedocs.io/en/latest/pythonapi/lightgbm.LGBMRegressor.html \n",
    "import lightgbm as lgb\n",
    "\n",
    "try: \n",
    "  # Load trained model if it exists\n",
    "  model = lgb.Booster(model_file='small_lgb.model');\n",
    "except lgb.basic.LightGBMError:\n",
    "  # Otherwise train and save the model\n",
    "  # This will take about 2 minutes 🍵\n",
    "  model = lgb.LGBMRegressor(\n",
    "    n_estimators=2000,\n",
    "    learning_rate=0.01,\n",
    "    max_depth=5,\n",
    "    num_leaves=2 ** 5,\n",
    "    colsample_bytree=0.1\n",
    "  )\n",
    "  model.fit(\n",
    "    training_data[feature_cols],\n",
    "    training_data[\"target\"]\n",
    "  );\n",
    "  # Save model to disk\n",
    "  model.booster_.save_model(\"small_lgb.model\");"
   ]
  },
  {
   "attachments": {},
   "cell_type": "markdown",
   "metadata": {},
   "source": [
    "Now let's evaluate our model's performance on the out of sample validation dataset "
   ]
  },
  {
   "cell_type": "code",
   "execution_count": 10,
   "metadata": {},
   "outputs": [
    {
     "name": "stderr",
     "output_type": "stream",
     "text": [
      "2023-06-05 10:01:38,077 INFO numerapi.utils: target file already exists\n",
      "2023-06-05 10:01:38,078 INFO numerapi.utils: download complete\n"
     ]
    },
    {
     "data": {
      "text/html": [
       "<div>\n",
       "<style scoped>\n",
       "    .dataframe tbody tr th:only-of-type {\n",
       "        vertical-align: middle;\n",
       "    }\n",
       "\n",
       "    .dataframe tbody tr th {\n",
       "        vertical-align: top;\n",
       "    }\n",
       "\n",
       "    .dataframe thead th {\n",
       "        text-align: right;\n",
       "    }\n",
       "</style>\n",
       "<table border=\"1\" class=\"dataframe\">\n",
       "  <thead>\n",
       "    <tr style=\"text-align: right;\">\n",
       "      <th></th>\n",
       "      <th>era</th>\n",
       "      <th>prediction</th>\n",
       "      <th>target</th>\n",
       "    </tr>\n",
       "    <tr>\n",
       "      <th>id</th>\n",
       "      <th></th>\n",
       "      <th></th>\n",
       "      <th></th>\n",
       "    </tr>\n",
       "  </thead>\n",
       "  <tbody>\n",
       "    <tr>\n",
       "      <th>n000101811a8a843</th>\n",
       "      <td>0575</td>\n",
       "      <td>0.488841</td>\n",
       "      <td>0.75</td>\n",
       "    </tr>\n",
       "    <tr>\n",
       "      <th>n001e1318d5072ac</th>\n",
       "      <td>0575</td>\n",
       "      <td>0.495411</td>\n",
       "      <td>0.00</td>\n",
       "    </tr>\n",
       "    <tr>\n",
       "      <th>n002a9c5ab785cbb</th>\n",
       "      <td>0575</td>\n",
       "      <td>0.502395</td>\n",
       "      <td>0.50</td>\n",
       "    </tr>\n",
       "    <tr>\n",
       "      <th>n002ccf6d0e8c5ad</th>\n",
       "      <td>0575</td>\n",
       "      <td>0.507658</td>\n",
       "      <td>0.00</td>\n",
       "    </tr>\n",
       "    <tr>\n",
       "      <th>n0051ab821295c29</th>\n",
       "      <td>0575</td>\n",
       "      <td>0.486678</td>\n",
       "      <td>0.50</td>\n",
       "    </tr>\n",
       "    <tr>\n",
       "      <th>...</th>\n",
       "      <td>...</td>\n",
       "      <td>...</td>\n",
       "      <td>...</td>\n",
       "    </tr>\n",
       "    <tr>\n",
       "      <th>nffe0d9bc8bfe713</th>\n",
       "      <td>1060</td>\n",
       "      <td>0.501921</td>\n",
       "      <td>0.50</td>\n",
       "    </tr>\n",
       "    <tr>\n",
       "      <th>nfff3cccd7e2d7ea</th>\n",
       "      <td>1060</td>\n",
       "      <td>0.500353</td>\n",
       "      <td>0.50</td>\n",
       "    </tr>\n",
       "    <tr>\n",
       "      <th>nfff5d3fc74708bd</th>\n",
       "      <td>1060</td>\n",
       "      <td>0.491952</td>\n",
       "      <td>0.75</td>\n",
       "    </tr>\n",
       "    <tr>\n",
       "      <th>nfffdd0a295fc578</th>\n",
       "      <td>1060</td>\n",
       "      <td>0.502726</td>\n",
       "      <td>0.25</td>\n",
       "    </tr>\n",
       "    <tr>\n",
       "      <th>nfffec47c8893918</th>\n",
       "      <td>1060</td>\n",
       "      <td>0.510005</td>\n",
       "      <td>0.50</td>\n",
       "    </tr>\n",
       "  </tbody>\n",
       "</table>\n",
       "<p>2482221 rows × 3 columns</p>\n",
       "</div>"
      ],
      "text/plain": [
       "                   era  prediction  target\n",
       "id                                        \n",
       "n000101811a8a843  0575    0.488841    0.75\n",
       "n001e1318d5072ac  0575    0.495411    0.00\n",
       "n002a9c5ab785cbb  0575    0.502395    0.50\n",
       "n002ccf6d0e8c5ad  0575    0.507658    0.00\n",
       "n0051ab821295c29  0575    0.486678    0.50\n",
       "...                ...         ...     ...\n",
       "nffe0d9bc8bfe713  1060    0.501921    0.50\n",
       "nfff3cccd7e2d7ea  1060    0.500353    0.50\n",
       "nfff5d3fc74708bd  1060    0.491952    0.75\n",
       "nfffdd0a295fc578  1060    0.502726    0.25\n",
       "nfffec47c8893918  1060    0.510005    0.50\n",
       "\n",
       "[2482221 rows x 3 columns]"
      ]
     },
     "execution_count": 10,
     "metadata": {},
     "output_type": "execute_result"
    }
   ],
   "source": [
    "# Download validation data \n",
    "# This will take about 2 minutes 🍵\n",
    "napi.download_dataset(\"v4.1/validation.parquet\");\n",
    "\n",
    "# Load the validation data but only the \"small\" subset of features\n",
    "validation_data = pd.read_parquet(\"v4.1/validation.parquet\", columns=[\"era\", \"data_type\"] + feature_cols + [\"target\"]) \n",
    "\n",
    "# Filter for data_type == \"validation\"\n",
    "validation_data = validation_data[validation_data[\"data_type\"] == \"validation\"]\n",
    "del validation_data[\"data_type\"]\n",
    "\n",
    "# Generate predictions against the out of sample validation features\n",
    "# This will take about 2 minutes 🍵\n",
    "validation_data[\"prediction\"] = model.predict(validation_data[feature_cols])\n",
    "validation_data[[\"era\", \"prediction\", \"target\"]]"
   ]
  },
  {
   "cell_type": "code",
   "execution_count": 9,
   "metadata": {},
   "outputs": [],
   "source": [
    "from scipy import stats\n",
    "import numpy as np\n",
    "\n",
    "# Numerai's primary scoring metric\n",
    "def numerai_corr(preds, target):\n",
    "    # rank (keeping ties) then gaussianize predictions to standardize prediction distributions\n",
    "    ranked_preds = (preds.rank(method=\"average\").values - 0.5) / preds.count()\n",
    "    gauss_ranked_preds = stats.norm.ppf(ranked_preds)\n",
    "    # center targets around 0\n",
    "    centered_target = target - target.mean()\n",
    "    # raise both preds and target to the power of 1.5 to accentuate the tails\n",
    "    preds_p15 = np.sign(gauss_ranked_preds) * np.abs(gauss_ranked_preds) ** 1.5\n",
    "    target_p15 = np.sign(centered_target) * np.abs(centered_target) ** 1.5\n",
    "    # finally return the Pearson correlation\n",
    "    return np.corrcoef(preds_p15, target_p15)[0, 1]"
   ]
  },
  {
   "cell_type": "code",
   "execution_count": 11,
   "metadata": {},
   "outputs": [
    {
     "data": {
      "image/png": "[encoded data removed]",
      "text/plain": [
       "<Figure size 1000x600 with 1 Axes>"
      ]
     },
     "metadata": {},
     "output_type": "display_data"
    }
   ],
   "source": [
    "# Compute the per-era correlation between our predictions and the target values\n",
    "per_era_corr = validation_data.groupby(\"era\").apply(lambda x: numerai_corr(x[\"prediction\"], x[\"target\"]))\n",
    "\n",
    "# Plot the per-era correlation\n",
    "per_era_corr.plot(kind=\"bar\", title=\"Validation Correlation\", figsize=(10, 6), xticks=[]);"
   ]
  },
  {
   "cell_type": "code",
   "execution_count": 12,
   "metadata": {},
   "outputs": [
    {
     "data": {
      "image/png": "[encoded data removed]",
      "text/plain": [
       "<Figure size 1000x600 with 1 Axes>"
      ]
     },
     "metadata": {},
     "output_type": "display_data"
    }
   ],
   "source": [
    "# Plot the cumulative per-era correlation\n",
    "per_era_corr.cumsum().plot(kind=\"line\", title=\"Cumulative Validation Correlation\", figsize=(10, 6));"
   ]
  },
  {
   "cell_type": "code",
   "execution_count": 13,
   "metadata": {},
   "outputs": [
    {
     "data": {
      "text/html": [
       "<div>\n",
       "<style scoped>\n",
       "    .dataframe tbody tr th:only-of-type {\n",
       "        vertical-align: middle;\n",
       "    }\n",
       "\n",
       "    .dataframe tbody tr th {\n",
       "        vertical-align: top;\n",
       "    }\n",
       "\n",
       "    .dataframe thead th {\n",
       "        text-align: right;\n",
       "    }\n",
       "</style>\n",
       "<table border=\"1\" class=\"dataframe\">\n",
       "  <thead>\n",
       "    <tr style=\"text-align: right;\">\n",
       "      <th></th>\n",
       "      <th>Value</th>\n",
       "    </tr>\n",
       "  </thead>\n",
       "  <tbody>\n",
       "    <tr>\n",
       "      <th>Mean</th>\n",
       "      <td>0.015967</td>\n",
       "    </tr>\n",
       "    <tr>\n",
       "      <th>Standard Deviation</th>\n",
       "      <td>0.021351</td>\n",
       "    </tr>\n",
       "    <tr>\n",
       "      <th>Sharpe Ratio</th>\n",
       "      <td>0.747857</td>\n",
       "    </tr>\n",
       "    <tr>\n",
       "      <th>Max Drawdown</th>\n",
       "      <td>0.342537</td>\n",
       "    </tr>\n",
       "  </tbody>\n",
       "</table>\n",
       "</div>"
      ],
      "text/plain": [
       "                       Value\n",
       "Mean                0.015967\n",
       "Standard Deviation  0.021351\n",
       "Sharpe Ratio        0.747857\n",
       "Max Drawdown        0.342537"
      ]
     },
     "execution_count": 13,
     "metadata": {},
     "output_type": "execute_result"
    }
   ],
   "source": [
    "# compute performance metrics\n",
    "corr_mean = per_era_corr.mean()\n",
    "corr_std = per_era_corr.std(ddof=0)\n",
    "corr_sharpe = corr_mean / corr_std\n",
    "max_drawdown = (per_era_corr.cumsum().expanding(min_periods=1).max() - per_era_corr.cumsum()).max()\n",
    "\n",
    "pd.DataFrame({\n",
    "    \"Mean\": corr_mean,\n",
    "    \"Standard Deviation\": corr_std,\n",
    "    \"Sharpe Ratio\": corr_sharpe,\n",
    "    \"Max Drawdown\": max_drawdown\n",
    "}, index=[\"Value\"]).T"
   ]
  },
  {
   "attachments": {},
   "cell_type": "markdown",
   "metadata": {},
   "source": [
    "`Mean` correlation is the primary measure of your model's performance. An mean correlation above 0.02 is considered good.\n",
    "\n",
    "`Sharpe` is a measure of your model's consistency, a concept borrowed from finance where it usually refers to risk adjusted returns of an investment strategy. In Numerai, we compute sharpe as the average correlation divided by the standard deviation of correlations. A sharpe above 1 is considered good. \n",
    "\n",
    "`Max drawdown` is a measure of your model's risk, another concept borrowed from finance where it usually refers to the maximum financial loss suffered by an investment strategy. In Numerai, we compute max drawdown as the maximum peak to trough drop in cumulative validation correlation. A max drawdown under 0.05 is considered good."
   ]
  },
  {
   "attachments": {},
   "cell_type": "markdown",
   "metadata": {},
   "source": [
    "# 3. Submissions\n",
    "Unlike Kaggle competitions where models are often evaluated based on their performance on a hold out test set, Numerai evaluates models based on their <ins>live performance</ins> in the real stock market.\n",
    "\n",
    "Every Tuesday-Saturday, a new live era of features is released, representing the current state of the stock market. Your task is to use the live features to generate live predictions and submit them to Numerai."
   ]
  },
  {
   "cell_type": "code",
   "execution_count": 14,
   "metadata": {},
   "outputs": [
    {
     "name": "stderr",
     "output_type": "stream",
     "text": [
      "2023-06-05 10:03:45,654 INFO numerapi.utils: target file already exists\n",
      "2023-06-05 10:03:45,655 INFO numerapi.utils: download complete\n"
     ]
    },
    {
     "data": {
      "text/html": [
       "<div>\n",
       "<style scoped>\n",
       "    .dataframe tbody tr th:only-of-type {\n",
       "        vertical-align: middle;\n",
       "    }\n",
       "\n",
       "    .dataframe tbody tr th {\n",
       "        vertical-align: top;\n",
       "    }\n",
       "\n",
       "    .dataframe thead th {\n",
       "        text-align: right;\n",
       "    }\n",
       "</style>\n",
       "<table border=\"1\" class=\"dataframe\">\n",
       "  <thead>\n",
       "    <tr style=\"text-align: right;\">\n",
       "      <th></th>\n",
       "      <th>prediction</th>\n",
       "    </tr>\n",
       "    <tr>\n",
       "      <th>id</th>\n",
       "      <th></th>\n",
       "    </tr>\n",
       "  </thead>\n",
       "  <tbody>\n",
       "    <tr>\n",
       "      <th>n0024c2235d0513b</th>\n",
       "      <td>0.491267</td>\n",
       "    </tr>\n",
       "    <tr>\n",
       "      <th>n002ef072fb486e0</th>\n",
       "      <td>0.506554</td>\n",
       "    </tr>\n",
       "    <tr>\n",
       "      <th>n0039efb6e47a0fc</th>\n",
       "      <td>0.497454</td>\n",
       "    </tr>\n",
       "    <tr>\n",
       "      <th>n003ad4351e2fdad</th>\n",
       "      <td>0.508327</td>\n",
       "    </tr>\n",
       "    <tr>\n",
       "      <th>n004b6fb37be7542</th>\n",
       "      <td>0.499102</td>\n",
       "    </tr>\n",
       "    <tr>\n",
       "      <th>...</th>\n",
       "      <td>...</td>\n",
       "    </tr>\n",
       "    <tr>\n",
       "      <th>nffac90d8aa67c61</th>\n",
       "      <td>0.491498</td>\n",
       "    </tr>\n",
       "    <tr>\n",
       "      <th>nffcfba05e598694</th>\n",
       "      <td>0.498641</td>\n",
       "    </tr>\n",
       "    <tr>\n",
       "      <th>nffd19ef0de75a67</th>\n",
       "      <td>0.498613</td>\n",
       "    </tr>\n",
       "    <tr>\n",
       "      <th>nffdfe6ce524114c</th>\n",
       "      <td>0.505240</td>\n",
       "    </tr>\n",
       "    <tr>\n",
       "      <th>nfffeeba54775037</th>\n",
       "      <td>0.496475</td>\n",
       "    </tr>\n",
       "  </tbody>\n",
       "</table>\n",
       "<p>4919 rows × 1 columns</p>\n",
       "</div>"
      ],
      "text/plain": [
       "                  prediction\n",
       "id                          \n",
       "n0024c2235d0513b    0.491267\n",
       "n002ef072fb486e0    0.506554\n",
       "n0039efb6e47a0fc    0.497454\n",
       "n003ad4351e2fdad    0.508327\n",
       "n004b6fb37be7542    0.499102\n",
       "...                      ...\n",
       "nffac90d8aa67c61    0.491498\n",
       "nffcfba05e598694    0.498641\n",
       "nffd19ef0de75a67    0.498613\n",
       "nffdfe6ce524114c    0.505240\n",
       "nfffeeba54775037    0.496475\n",
       "\n",
       "[4919 rows x 1 columns]"
      ]
     },
     "execution_count": 14,
     "metadata": {},
     "output_type": "execute_result"
    }
   ],
   "source": [
    "# Check the current round number \n",
    "current_round_number = napi.get_current_round()\n",
    "\n",
    "# Download latest live features for the current round number \n",
    "napi.download_dataset(\"v4/live.parquet\", f\"v4/live_{current_round_number}.parquet\")\n",
    "\n",
    "# Load live features\n",
    "live_features = pd.read_parquet(f\"v4/live_{current_round_number}.parquet\", columns=feature_cols)\n",
    "\n",
    "# Generate live predictions with our trained model\n",
    "live_predictions = model.predict(live_features[feature_cols])\n",
    "\n",
    "# Format submission\n",
    "submission = pd.Series(live_predictions, index=live_features.index).to_frame(\"prediction\")\n",
    "submission"
   ]
  },
  {
   "attachments": {},
   "cell_type": "markdown",
   "metadata": {},
   "source": [
    "The simplest way to automate this daily process is to upload your model to Numerai. Once uploaded, Numerai will take care of running it daily to generate live predictions. Note: this feature is in beta, talk to us on Discord if you want to try it otherwise it will be publically available by June 19.\n",
    "\n",
    "You can also host your own model if you prefer, see our [docs](https://docs.numer.ai/numerai-tournament/submissions#automation) for more advanced examples."
   ]
  },
  {
   "cell_type": "code",
   "execution_count": 15,
   "metadata": {},
   "outputs": [],
   "source": [
    "# Wrap your model with a function that takes live features and returns live predictions\n",
    "def predict(live_features: pd.DataFrame) -> pd.DataFrame:\n",
    "    live_predictions = model.predict(live_features[feature_cols])\n",
    "    submission = pd.Series(live_predictions, index=live_features.index)\n",
    "    return submission.to_frame(\"prediction\")"
   ]
  },
  {
   "cell_type": "code",
   "execution_count": 16,
   "metadata": {},
   "outputs": [],
   "source": [
    "# Use the cloudpickle library to serialize your function\n",
    "import cloudpickle\n",
    "p = cloudpickle.dumps(predict)\n",
    "with open(\"predict.pkl\", \"wb\") as f:\n",
    "    f.write(p)"
   ]
  },
  {
   "cell_type": "code",
   "execution_count": 17,
   "metadata": {},
   "outputs": [],
   "source": [
    "# Download file if running in Google Colab\n",
    "try:\n",
    "    from google.colab import files\n",
    "    files.download('predict.pkl')\n",
    "except:\n",
    "    pass"
   ]
  },
  {
   "attachments": {},
   "cell_type": "markdown",
   "metadata": {},
   "source": [
    "That's it! Now head back to [numer.ai](numer.ai) to upload your model! "
   ]
  }
 ],
 "metadata": {
  "kernelspec": {
   "display_name": "Python 3 (ipykernel)",
   "language": "python",
   "name": "python3"
  },
  "language_info": {
   "codemirror_mode": {
    "name": "ipython",
    "version": 3
   },
   "file_extension": ".py",
   "mimetype": "text/x-python",
   "name": "python",
   "nbconvert_exporter": "python",
   "pygments_lexer": "ipython3",
   "version": "3.11.2"
  }
 },
 "nbformat": 4,
 "nbformat_minor": 2
}
